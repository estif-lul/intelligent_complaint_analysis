{
 "cells": [
  {
   "cell_type": "code",
   "execution_count": 16,
   "id": "6ef91e38",
   "metadata": {},
   "outputs": [],
   "source": [
    "from langchain.text_splitter import RecursiveCharacterTextSplitter\n",
    "import pandas as pd\n",
    "from sentence_transformers import SentenceTransformer\n",
    "import numpy as np\n",
    "import torch\n",
    "import pickle"
   ]
  },
  {
   "cell_type": "code",
   "execution_count": 2,
   "id": "013f9f49",
   "metadata": {},
   "outputs": [],
   "source": [
    "# Load cleaned data\n",
    "df = pd.read_parquet('../data/processed/filtered_complaints.parquet')"
   ]
  },
  {
   "cell_type": "code",
   "execution_count": 3,
   "id": "357cd732",
   "metadata": {},
   "outputs": [],
   "source": [
    "# Initialize text splitter\n",
    "splitter = RecursiveCharacterTextSplitter(\n",
    "    chunk_size = 300,\n",
    "    chunk_overlap = 50,\n",
    "    separators = ['\\n\\n', '\\n', '.', ' ']\n",
    ")"
   ]
  },
  {
   "cell_type": "code",
   "execution_count": 4,
   "id": "3ae9267a",
   "metadata": {},
   "outputs": [
    {
     "name": "stdout",
     "output_type": "stream",
     "text": [
      "✅ Total chunks created: 766564\n"
     ]
    }
   ],
   "source": [
    "# Apply chunking\n",
    "documents = []\n",
    "for idx, row in df.iterrows():\n",
    "    chunks = splitter.split_text(row['cleaned_narrative'])\n",
    "    for chunk in chunks:\n",
    "        documents.append({\n",
    "            'text': chunk,\n",
    "            'product': row['Product'],\n",
    "            'complaint_id': row.get('Complaint ID', idx)\n",
    "        })\n",
    "\n",
    "print(f\"✅ Total chunks created: {len(documents)}\")"
   ]
  },
  {
   "cell_type": "code",
   "execution_count": 5,
   "id": "8843e13e",
   "metadata": {},
   "outputs": [
    {
     "name": "stdout",
     "output_type": "stream",
     "text": [
      "[{'text': 'xxxx xxxx card opened name fraudster received notice xxxx account opened name reached xxxx xxxx state activity unauthorized xxxx xxxx confirmed fraudulent immediately closed card however failed remove three credit agency fraud impacting credit score based hard credit pull done xxxx xxxx done', 'product': 'Credit card', 'complaint_id': 14069121}, {'text': 'score based hard credit pull done xxxx xxxx done fraudster', 'product': 'Credit card', 'complaint_id': 14069121}, {'text': 'dear cfpb secured credit card citibank changed unsecured card calling n waitting check release secured amount 250000 rhat credit card told wait today told someone cashed check system doesnt info happen requested case number wont send confirmation whatsoever report police told wait form might sent', 'product': 'Credit card', 'complaint_id': 14047085}, {'text': 'report police told wait form might sent via mail within 14 day fill called customer service second time today manager told thing info help please help big bank service terrible lil customer like nothing thank much look forward reply', 'product': 'Credit card', 'complaint_id': 14047085}, {'text': 'citi reward card credit balance issued 840000 recently moved meant bill would lowered meant id less use credit card order keep usage generally good area used card intention pay monthly would result boost credit score showing creditor pay doen card good standing credit good standing xxxx xxxx xxxx', 'product': 'Credit card', 'complaint_id': 14040217}, {'text': 'good standing credit good standing xxxx xxxx xxxx citi abruptly slash balance card 840000 540000 sends message reached credit limit contacted said consult letter emailed xxxx slashing action taken day letter xxxx recourse respond even aware action prior notification reaching limit received xxxx', 'product': 'Credit card', 'complaint_id': 14040217}, {'text': 'prior notification reaching limit received xxxx xxxx egregious act blindsided manipulates account make appear im close reaching limit fact near limit could negatively impact credit score fault', 'product': 'Credit card', 'complaint_id': 14040217}, {'text': 'bi writing dispute following charge citi credit card account become victim identity theft someone made purchase without authorization made purchase knowledge strongly believe unauthorized transaction result identity theft attachment fromxxxxxxxxshowing new address also fraudulent lived murfreesboro', 'product': 'Credit card', 'complaint_id': 13968411}, {'text': 'new address also fraudulent lived murfreesboro tn xxxxxxxx thats became aware fraudulent charge started communication citi xxxxxxxxabout unauthorized fraudulent charge also included statement credit score negative point due inaccurate charge several attempt clear matter become apparent ignored citi', 'product': 'Credit card', 'complaint_id': 13968411}, {'text': 'attempt clear matter become apparent ignored citi sure proceed try get right help clear matter hoping reached correct citi group clear matternnaccount opened xxxxxxxxcredit card numberxxxxxxxxn1tcharge 1 xxxxxxxx charge amount disputed citi closed account mailed 2nd different accountnnew citi', 'product': 'Credit card', 'complaint_id': 13968411}]\n"
     ]
    }
   ],
   "source": [
    "print(documents[:10])"
   ]
  },
  {
   "cell_type": "code",
   "execution_count": 14,
   "id": "35ffd35f",
   "metadata": {},
   "outputs": [
    {
     "name": "stdout",
     "output_type": "stream",
     "text": [
      "_CudaDeviceProperties(name='NVIDIA GeForce 940MX', major=5, minor=0, total_memory=2047MB, multi_processor_count=3, uuid=bf11a784-7c04-f58b-d95d-4fd7280432f4, L2_cache_size=1MB)\n"
     ]
    }
   ],
   "source": [
    "print(torch.cuda.get_device_properties(0))"
   ]
  },
  {
   "cell_type": "code",
   "execution_count": 15,
   "id": "c7ae6638",
   "metadata": {},
   "outputs": [
    {
     "name": "stderr",
     "output_type": "stream",
     "text": [
      "Batches: 100%|██████████| 23956/23956 [1:18:08<00:00,  5.11it/s]\n"
     ]
    }
   ],
   "source": [
    "# Load model\n",
    "model = SentenceTransformer('all-MiniLM-L6-v2', device=\"cuda\")\n",
    "\n",
    "# Embed chunks\n",
    "texts = [doc['text'] for doc in documents]\n",
    "embeddings = model.encode(texts, show_progress_bar=True, batch_size=32, convert_to_tensor=True)"
   ]
  },
  {
   "cell_type": "code",
   "execution_count": null,
   "id": "87c4243f",
   "metadata": {},
   "outputs": [],
   "source": [
    "# Attach embeddings to documents\n",
    "for i, emb in enumerate(embeddings):\n",
    "    documents[i]['embedding'] = emb.tolist()"
   ]
  },
  {
   "cell_type": "code",
   "execution_count": 18,
   "id": "e3cbf4bf",
   "metadata": {},
   "outputs": [],
   "source": [
    "# Save to disk\n",
    "with open('../vector_store/chunks_with_embeddings.pkl', 'wb') as f:\n",
    "    pickle.dump(documents, f)"
   ]
  }
 ],
 "metadata": {
  "kernelspec": {
   "display_name": ".venv",
   "language": "python",
   "name": "python3"
  },
  "language_info": {
   "codemirror_mode": {
    "name": "ipython",
    "version": 3
   },
   "file_extension": ".py",
   "mimetype": "text/x-python",
   "name": "python",
   "nbconvert_exporter": "python",
   "pygments_lexer": "ipython3",
   "version": "3.10.0"
  }
 },
 "nbformat": 4,
 "nbformat_minor": 5
}
