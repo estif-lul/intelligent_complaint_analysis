{
 "cells": [
  {
   "cell_type": "code",
   "execution_count": 1,
   "id": "cd329cb1",
   "metadata": {},
   "outputs": [],
   "source": [
    "import faiss\n",
    "import numpy as np\n",
    "import pickle"
   ]
  },
  {
   "cell_type": "code",
   "execution_count": 2,
   "id": "e11051d9",
   "metadata": {},
   "outputs": [],
   "source": [
    "# Load embedded documents\n",
    "with open('../vector_store/chunks_with_embeddings.pkl', 'rb') as f:\n",
    "    documents = pickle.load(f)"
   ]
  },
  {
   "cell_type": "code",
   "execution_count": 3,
   "id": "8f0bd55c",
   "metadata": {},
   "outputs": [],
   "source": [
    "# Prepare index\n",
    "dimension = len(documents[0]['embedding'])\n",
    "index = faiss.IndexFlatL2(dimension)"
   ]
  },
  {
   "cell_type": "code",
   "execution_count": 4,
   "id": "87f8b151",
   "metadata": {},
   "outputs": [],
   "source": [
    "# Add vectors\n",
    "vectors = np.array([doc['embedding'] for doc in documents]).astype('float32')\n",
    "index.add(vectors)"
   ]
  },
  {
   "cell_type": "code",
   "execution_count": 5,
   "id": "fbdd435b",
   "metadata": {},
   "outputs": [
    {
     "name": "stdout",
     "output_type": "stream",
     "text": [
      "Vector store idexed and saved\n"
     ]
    }
   ],
   "source": [
    "# Save index\n",
    "faiss.write_index(index, '../vector_store/faiss_index.index')\n",
    "\n",
    "# Save metadata\n",
    "# with open('../vector_store/metadata.pkl', 'wb') as f:\n",
    "#     pickle.dump(documents, f)\n",
    "\n",
    "print('Vector store idexed and saved')"
   ]
  }
 ],
 "metadata": {
  "kernelspec": {
   "display_name": ".venv",
   "language": "python",
   "name": "python3"
  },
  "language_info": {
   "codemirror_mode": {
    "name": "ipython",
    "version": 3
   },
   "file_extension": ".py",
   "mimetype": "text/x-python",
   "name": "python",
   "nbconvert_exporter": "python",
   "pygments_lexer": "ipython3",
   "version": "3.13.3"
  }
 },
 "nbformat": 4,
 "nbformat_minor": 5
}
