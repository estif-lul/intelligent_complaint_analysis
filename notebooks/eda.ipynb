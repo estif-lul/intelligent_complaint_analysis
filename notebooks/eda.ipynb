{
 "cells": [
  {
   "cell_type": "code",
   "execution_count": 16,
   "id": "26836f45",
   "metadata": {},
   "outputs": [],
   "source": [
    "import pandas as pd\n",
    "import matplotlib.pyplot as plt\n",
    "import seaborn as sns\n",
    "import re\n",
    "from tqdm import tqdm\n",
    "tqdm.pandas()"
   ]
  },
  {
   "cell_type": "code",
   "execution_count": 22,
   "id": "5d354518",
   "metadata": {},
   "outputs": [
    {
     "name": "stderr",
     "output_type": "stream",
     "text": [
      "[nltk_data] Downloading package stopwords to /home/est-\n",
      "[nltk_data]     lul/nltk_data...\n",
      "[nltk_data]   Package stopwords is already up-to-date!\n",
      "[nltk_data] Downloading package wordnet to /home/est-lul/nltk_data...\n",
      "[nltk_data]   Package wordnet is already up-to-date!\n"
     ]
    }
   ],
   "source": [
    "import nltk\n",
    "from nltk.corpus import stopwords\n",
    "from nltk.stem import WordNetLemmatizer\n",
    "\n",
    "nltk.download('stopwords')\n",
    "nltk.download('wordnet')\n",
    "\n",
    "stop_words = set(stopwords.words('english'))\n",
    "lemmatizer = WordNetLemmatizer()"
   ]
  },
  {
   "cell_type": "code",
   "execution_count": 2,
   "id": "33a0d4d4",
   "metadata": {},
   "outputs": [],
   "source": [
    "df = pd.read_parquet('../data/complaints.parquet')"
   ]
  },
  {
   "cell_type": "code",
   "execution_count": 3,
   "id": "4845927f",
   "metadata": {},
   "outputs": [
    {
     "data": {
      "text/plain": [
       "(9609797, 18)"
      ]
     },
     "execution_count": 3,
     "metadata": {},
     "output_type": "execute_result"
    }
   ],
   "source": [
    "df.shape"
   ]
  },
  {
   "cell_type": "code",
   "execution_count": 4,
   "id": "be6c9493",
   "metadata": {},
   "outputs": [
    {
     "name": "stdout",
     "output_type": "stream",
     "text": [
      "Date received                         0\n",
      "Product                               0\n",
      "Sub-product                      235295\n",
      "Issue                                 6\n",
      "Sub-issue                        839522\n",
      "Consumer complaint narrative    6629041\n",
      "Company public response         4770207\n",
      "Company                               0\n",
      "State                             54516\n",
      "ZIP code                          30228\n",
      "Tags                            8981029\n",
      "Consumer consent provided?      1649561\n",
      "Submitted via                         0\n",
      "Date sent to company                  0\n",
      "Company response to consumer         20\n",
      "Timely response?                      0\n",
      "Consumer disputed?              8841498\n",
      "Complaint ID                          0\n",
      "dtype: int64\n"
     ]
    }
   ],
   "source": [
    "print(df.isna().sum())"
   ]
  },
  {
   "cell_type": "code",
   "execution_count": 5,
   "id": "1d222f95",
   "metadata": {},
   "outputs": [
    {
     "data": {
      "text/html": [
       "<div>\n",
       "<style scoped>\n",
       "    .dataframe tbody tr th:only-of-type {\n",
       "        vertical-align: middle;\n",
       "    }\n",
       "\n",
       "    .dataframe tbody tr th {\n",
       "        vertical-align: top;\n",
       "    }\n",
       "\n",
       "    .dataframe thead th {\n",
       "        text-align: right;\n",
       "    }\n",
       "</style>\n",
       "<table border=\"1\" class=\"dataframe\">\n",
       "  <thead>\n",
       "    <tr style=\"text-align: right;\">\n",
       "      <th></th>\n",
       "      <th>Date received</th>\n",
       "      <th>Product</th>\n",
       "      <th>Sub-product</th>\n",
       "      <th>Issue</th>\n",
       "      <th>Sub-issue</th>\n",
       "      <th>Consumer complaint narrative</th>\n",
       "      <th>Company public response</th>\n",
       "      <th>Company</th>\n",
       "      <th>State</th>\n",
       "      <th>ZIP code</th>\n",
       "      <th>Tags</th>\n",
       "      <th>Consumer consent provided?</th>\n",
       "      <th>Submitted via</th>\n",
       "      <th>Date sent to company</th>\n",
       "      <th>Company response to consumer</th>\n",
       "      <th>Timely response?</th>\n",
       "      <th>Consumer disputed?</th>\n",
       "      <th>Complaint ID</th>\n",
       "    </tr>\n",
       "  </thead>\n",
       "  <tbody>\n",
       "    <tr>\n",
       "      <th>7535345</th>\n",
       "      <td>2023-11-20</td>\n",
       "      <td>Credit card</td>\n",
       "      <td>General-purpose credit card or charge card</td>\n",
       "      <td>Incorrect information on your report</td>\n",
       "      <td>Account status incorrect</td>\n",
       "      <td>I kindly implore you to immediately correct th...</td>\n",
       "      <td>Company has responded to the consumer and the ...</td>\n",
       "      <td>Experian Information Solutions Inc.</td>\n",
       "      <td>IL</td>\n",
       "      <td>601XX</td>\n",
       "      <td>None</td>\n",
       "      <td>Consent provided</td>\n",
       "      <td>Web</td>\n",
       "      <td>2023-11-20</td>\n",
       "      <td>Closed with explanation</td>\n",
       "      <td>Yes</td>\n",
       "      <td>None</td>\n",
       "      <td>7880604</td>\n",
       "    </tr>\n",
       "    <tr>\n",
       "      <th>9310350</th>\n",
       "      <td>2024-03-19</td>\n",
       "      <td>Debt or credit management</td>\n",
       "      <td>Debt settlement</td>\n",
       "      <td>Charged upfront or unexpected fees</td>\n",
       "      <td>None</td>\n",
       "      <td>None</td>\n",
       "      <td>None</td>\n",
       "      <td>Northstar Legal Group LLC</td>\n",
       "      <td>MN</td>\n",
       "      <td>56226</td>\n",
       "      <td>Older American</td>\n",
       "      <td>None</td>\n",
       "      <td>Phone</td>\n",
       "      <td>2024-03-19</td>\n",
       "      <td>Untimely response</td>\n",
       "      <td>No</td>\n",
       "      <td>None</td>\n",
       "      <td>8584207</td>\n",
       "    </tr>\n",
       "    <tr>\n",
       "      <th>6727158</th>\n",
       "      <td>2014-08-28</td>\n",
       "      <td>Consumer Loan</td>\n",
       "      <td>Vehicle loan</td>\n",
       "      <td>Managing the loan or lease</td>\n",
       "      <td>None</td>\n",
       "      <td>None</td>\n",
       "      <td>None</td>\n",
       "      <td>Santander Consumer USA Holdings Inc.</td>\n",
       "      <td>IL</td>\n",
       "      <td>60173</td>\n",
       "      <td>None</td>\n",
       "      <td>None</td>\n",
       "      <td>Web</td>\n",
       "      <td>2014-09-03</td>\n",
       "      <td>Closed with explanation</td>\n",
       "      <td>Yes</td>\n",
       "      <td>No</td>\n",
       "      <td>1005179</td>\n",
       "    </tr>\n",
       "    <tr>\n",
       "      <th>4844068</th>\n",
       "      <td>2025-05-06</td>\n",
       "      <td>Credit reporting or other personal consumer re...</td>\n",
       "      <td>Credit reporting</td>\n",
       "      <td>Incorrect information on your report</td>\n",
       "      <td>Personal information incorrect</td>\n",
       "      <td>None</td>\n",
       "      <td>None</td>\n",
       "      <td>Experian Information Solutions Inc.</td>\n",
       "      <td>MD</td>\n",
       "      <td>20785</td>\n",
       "      <td>None</td>\n",
       "      <td>None</td>\n",
       "      <td>Web</td>\n",
       "      <td>2025-05-06</td>\n",
       "      <td>In progress</td>\n",
       "      <td>Yes</td>\n",
       "      <td>None</td>\n",
       "      <td>13368827</td>\n",
       "    </tr>\n",
       "    <tr>\n",
       "      <th>6436929</th>\n",
       "      <td>2014-12-21</td>\n",
       "      <td>Credit reporting</td>\n",
       "      <td>None</td>\n",
       "      <td>Credit reporting company's investigation</td>\n",
       "      <td>Investigation took too long</td>\n",
       "      <td>None</td>\n",
       "      <td>None</td>\n",
       "      <td>EQUIFAX, INC.</td>\n",
       "      <td>AL</td>\n",
       "      <td>35040</td>\n",
       "      <td>None</td>\n",
       "      <td>None</td>\n",
       "      <td>Web</td>\n",
       "      <td>2014-12-24</td>\n",
       "      <td>Closed with explanation</td>\n",
       "      <td>Yes</td>\n",
       "      <td>No</td>\n",
       "      <td>1165609</td>\n",
       "    </tr>\n",
       "  </tbody>\n",
       "</table>\n",
       "</div>"
      ],
      "text/plain": [
       "        Date received                                            Product  \\\n",
       "7535345    2023-11-20                                        Credit card   \n",
       "9310350    2024-03-19                          Debt or credit management   \n",
       "6727158    2014-08-28                                      Consumer Loan   \n",
       "4844068    2025-05-06  Credit reporting or other personal consumer re...   \n",
       "6436929    2014-12-21                                   Credit reporting   \n",
       "\n",
       "                                        Sub-product  \\\n",
       "7535345  General-purpose credit card or charge card   \n",
       "9310350                             Debt settlement   \n",
       "6727158                                Vehicle loan   \n",
       "4844068                            Credit reporting   \n",
       "6436929                                        None   \n",
       "\n",
       "                                            Issue  \\\n",
       "7535345      Incorrect information on your report   \n",
       "9310350        Charged upfront or unexpected fees   \n",
       "6727158                Managing the loan or lease   \n",
       "4844068      Incorrect information on your report   \n",
       "6436929  Credit reporting company's investigation   \n",
       "\n",
       "                              Sub-issue  \\\n",
       "7535345        Account status incorrect   \n",
       "9310350                            None   \n",
       "6727158                            None   \n",
       "4844068  Personal information incorrect   \n",
       "6436929     Investigation took too long   \n",
       "\n",
       "                              Consumer complaint narrative  \\\n",
       "7535345  I kindly implore you to immediately correct th...   \n",
       "9310350                                               None   \n",
       "6727158                                               None   \n",
       "4844068                                               None   \n",
       "6436929                                               None   \n",
       "\n",
       "                                   Company public response  \\\n",
       "7535345  Company has responded to the consumer and the ...   \n",
       "9310350                                               None   \n",
       "6727158                                               None   \n",
       "4844068                                               None   \n",
       "6436929                                               None   \n",
       "\n",
       "                                      Company State ZIP code            Tags  \\\n",
       "7535345   Experian Information Solutions Inc.    IL    601XX            None   \n",
       "9310350             Northstar Legal Group LLC    MN    56226  Older American   \n",
       "6727158  Santander Consumer USA Holdings Inc.    IL    60173            None   \n",
       "4844068   Experian Information Solutions Inc.    MD    20785            None   \n",
       "6436929                         EQUIFAX, INC.    AL    35040            None   \n",
       "\n",
       "        Consumer consent provided? Submitted via Date sent to company  \\\n",
       "7535345           Consent provided           Web           2023-11-20   \n",
       "9310350                       None         Phone           2024-03-19   \n",
       "6727158                       None           Web           2014-09-03   \n",
       "4844068                       None           Web           2025-05-06   \n",
       "6436929                       None           Web           2014-12-24   \n",
       "\n",
       "        Company response to consumer Timely response? Consumer disputed?  \\\n",
       "7535345      Closed with explanation              Yes               None   \n",
       "9310350            Untimely response               No               None   \n",
       "6727158      Closed with explanation              Yes                 No   \n",
       "4844068                  In progress              Yes               None   \n",
       "6436929      Closed with explanation              Yes                 No   \n",
       "\n",
       "         Complaint ID  \n",
       "7535345       7880604  \n",
       "9310350       8584207  \n",
       "6727158       1005179  \n",
       "4844068      13368827  \n",
       "6436929       1165609  "
      ]
     },
     "execution_count": 5,
     "metadata": {},
     "output_type": "execute_result"
    }
   ],
   "source": [
    "df.sample(5)"
   ]
  },
  {
   "cell_type": "code",
   "execution_count": 6,
   "id": "59a51e61",
   "metadata": {},
   "outputs": [],
   "source": [
    "target_products = [\n",
    "    'Credit card', 'Credit card or prepaid card', \n",
    "    'Payday loan, title loan, or personal loan', 'Payday loan, title loan, personal loan, or advance loan',\n",
    "    'Bank account or service',\n",
    "    'Money transfers'\n",
    "]"
   ]
  },
  {
   "cell_type": "code",
   "execution_count": 7,
   "id": "575cdbe0",
   "metadata": {},
   "outputs": [
    {
     "data": {
      "text/plain": [
       "Product\n",
       "Credit reporting or other personal consumer reports                             4834855\n",
       "Credit reporting, credit repair services, or other personal consumer reports    2163857\n",
       "Debt collection                                                                  799197\n",
       "Mortgage                                                                         422254\n",
       "Checking or savings account                                                      291178\n",
       "Credit card                                                                      226686\n",
       "Credit card or prepaid card                                                      206369\n",
       "Money transfer, virtual currency, or money service                               145066\n",
       "Credit reporting                                                                 140429\n",
       "Student loan                                                                     109717\n",
       "Bank account or service                                                           86205\n",
       "Vehicle loan or lease                                                             72957\n",
       "Consumer Loan                                                                     31574\n",
       "Payday loan, title loan, or personal loan                                         30641\n",
       "Payday loan, title loan, personal loan, or advance loan                           16514\n",
       "Prepaid card                                                                      15280\n",
       "Payday loan                                                                        5541\n",
       "Money transfers                                                                    5354\n",
       "Debt or credit management                                                          5047\n",
       "Other financial service                                                            1058\n",
       "Virtual currency                                                                     18\n",
       "Name: count, dtype: int64"
      ]
     },
     "execution_count": 7,
     "metadata": {},
     "output_type": "execute_result"
    }
   ],
   "source": [
    "df['Product'].value_counts()"
   ]
  },
  {
   "cell_type": "code",
   "execution_count": 8,
   "id": "87d43009",
   "metadata": {},
   "outputs": [
    {
     "data": {
      "text/plain": [
       "(571769, 18)"
      ]
     },
     "execution_count": 8,
     "metadata": {},
     "output_type": "execute_result"
    }
   ],
   "source": [
    "df = df[df['Product'].isin(target_products)]\n",
    "df.shape"
   ]
  },
  {
   "cell_type": "code",
   "execution_count": 19,
   "id": "96776775",
   "metadata": {},
   "outputs": [
    {
     "name": "stdout",
     "output_type": "stream",
     "text": [
      "Complaints with narratives: 231850\n",
      "Complaints without narratives: 0\n"
     ]
    }
   ],
   "source": [
    "# Number of complaints with narratives (non-empty)\n",
    "with_narrative = df['Consumer complaint narrative'].notna() & (df['Consumer complaint narrative'].str.strip() != '')\n",
    "print(\"Complaints with narratives:\", with_narrative.sum())\n",
    "\n",
    "# Number of complaints without narratives (empty or NaN)\n",
    "without_narrative = ~with_narrative\n",
    "print(\"Complaints without narratives:\", without_narrative.sum())"
   ]
  },
  {
   "cell_type": "code",
   "execution_count": 9,
   "id": "2c9cd71b",
   "metadata": {},
   "outputs": [],
   "source": [
    "#Drop rows with missing or empty narratives\n",
    "df = df.dropna(subset=['Consumer complaint narrative'])\n",
    "df = df[df['Consumer complaint narrative'].str.strip() != '']"
   ]
  },
  {
   "cell_type": "code",
   "execution_count": 10,
   "id": "0d1d02ec",
   "metadata": {},
   "outputs": [
    {
     "data": {
      "text/plain": [
       "(231850, 18)"
      ]
     },
     "execution_count": 10,
     "metadata": {},
     "output_type": "execute_result"
    }
   ],
   "source": [
    "df.shape"
   ]
  },
  {
   "cell_type": "code",
   "execution_count": 11,
   "id": "a0baff48",
   "metadata": {},
   "outputs": [
    {
     "data": {
      "image/png": "[encoded data removed]",
      "text/plain": [
       "<Figure size 1000x500 with 1 Axes>"
      ]
     },
     "metadata": {},
     "output_type": "display_data"
    }
   ],
   "source": [
    "# Visualize product distribution\n",
    "plt.figure(figsize=(10, 5))\n",
    "sns.countplot(data=df, y='Product', order=df['Product'].value_counts().index)\n",
    "plt.title(\"Complaint Count by Product\")\n",
    "plt.tight_layout()"
   ]
  },
  {
   "cell_type": "code",
   "execution_count": 12,
   "id": "8a3525c9",
   "metadata": {},
   "outputs": [],
   "source": [
    "# Add narrative length column\n",
    "df['narrative_length'] = df['Consumer complaint narrative'].apply(lambda x: len(x.split()))"
   ]
  },
  {
   "cell_type": "code",
   "execution_count": 13,
   "id": "94939437",
   "metadata": {},
   "outputs": [
    {
     "data": {
      "image/png": "[encoded data removed]",
      "text/plain": [
       "<Figure size 800x400 with 1 Axes>"
      ]
     },
     "metadata": {},
     "output_type": "display_data"
    }
   ],
   "source": [
    "# Visualize narrative length\n",
    "plt.figure(figsize=(8, 4))\n",
    "sns.histplot(df['narrative_length'], bins=50, kde=True)\n",
    "plt.title(\"Distribution of Narrative Lengths\")\n",
    "plt.xlabel(\"Word Count\")\n",
    "plt.tight_layout()\n",
    "plt.show()"
   ]
  },
  {
   "cell_type": "markdown",
   "id": "7eca4dc1",
   "metadata": {},
   "source": [
    "## Clean Text\n",
    "\n",
    "The clean_text function takes a string and performs basic text cleaning:\n",
    "\n",
    "- Converts all characters to lowercase.\n",
    "- Removes any character that is not a lowercase letter, digit, or whitespace.\n",
    "- Replaces multiple spaces with a single space and trims leading/trailing spaces.\n",
    "\n",
    "This prepares text for further analysis or modeling by standardizing and simplifying it."
   ]
  },
  {
   "cell_type": "code",
   "execution_count": 23,
   "id": "762510f4",
   "metadata": {},
   "outputs": [],
   "source": [
    "# Clean text\n",
    "def clean_text(text):\n",
    "    text = text.lower()\n",
    "    text = re.sub(r\"[^a-z0-9\\s]\", \"\", text)\n",
    "    text = re.sub(r\"\\s+\", \" \", text).strip()\n",
    "    words = text.split()\n",
    "    words = [lemmatizer.lemmatize(w) for w in words if w not in stop_words]\n",
    "    return ' '.join(words)"
   ]
  },
  {
   "cell_type": "code",
   "execution_count": 24,
   "id": "2219d29b",
   "metadata": {},
   "outputs": [
    {
     "name": "stderr",
     "output_type": "stream",
     "text": [
      "Exception ignored in: <function tqdm.__del__ at 0x7f6860ae9750>\n",
      "Traceback (most recent call last):\n",
      "  File \"/home/est-lul/Documents/Projects/intelligent_complaint_analysis/.venv/lib64/python3.10/site-packages/tqdm/std.py\", line 1148, in __del__\n",
      "    self.close()\n",
      "  File \"/home/est-lul/Documents/Projects/intelligent_complaint_analysis/.venv/lib64/python3.10/site-packages/tqdm/notebook.py\", line 279, in close\n",
      "    self.disp(bar_style='danger', check_delay=False)\n",
      "AttributeError: 'tqdm_notebook' object has no attribute 'disp'\n",
      "100%|██████████| 231850/231850 [02:07<00:00, 1820.27it/s]\n"
     ]
    }
   ],
   "source": [
    "df['cleaned_narrative'] = df['Consumer complaint narrative'].progress_apply(clean_text)"
   ]
  },
  {
   "cell_type": "code",
   "execution_count": 25,
   "id": "5d40d9c6",
   "metadata": {},
   "outputs": [],
   "source": [
    "df.to_parquet('../data/processed/filtered_complaints.parquet', index=False)"
   ]
  }
 ],
 "metadata": {
  "kernelspec": {
   "display_name": ".venv",
   "language": "python",
   "name": "python3"
  },
  "language_info": {
   "codemirror_mode": {
    "name": "ipython",
    "version": 3
   },
   "file_extension": ".py",
   "mimetype": "text/x-python",
   "name": "python",
   "nbconvert_exporter": "python",
   "pygments_lexer": "ipython3",
   "version": "3.10.18"
  }
 },
 "nbformat": 4,
 "nbformat_minor": 5
}
